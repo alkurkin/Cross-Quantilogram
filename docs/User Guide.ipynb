{
 "cells": [
  {
   "cell_type": "markdown",
   "metadata": {},
   "source": [
    "# User Guide"
   ]
  },
  {
   "cell_type": "code",
   "execution_count": 1,
   "metadata": {},
   "outputs": [],
   "source": [
    "import pandas as pd\n",
    "import numpy as np\n",
    "import matplotlib\n",
    "import matplotlib.pyplot as plt\n",
    "import matplotlib.ticker as ticker\n",
    "import time"
   ]
  },
  {
   "cell_type": "code",
   "execution_count": 2,
   "metadata": {},
   "outputs": [],
   "source": [
    "d1=pd.read_pickle(\"ReturnData/sgold.pkl\")\n",
    "d2=pd.read_pickle(\"ReturnData/cgold.pkl\")"
   ]
  },
  {
   "cell_type": "code",
   "execution_count": 3,
   "metadata": {},
   "outputs": [],
   "source": [
    "import CrossQuantilogram as cq"
   ]
  },
  {
   "cell_type": "markdown",
   "metadata": {},
   "source": [
    "******"
   ]
  },
  {
   "cell_type": "markdown",
   "metadata": {},
   "source": [
    "\n",
    "## Lower Level Functions"
   ]
  },
  {
   "cell_type": "markdown",
   "metadata": {},
   "source": [
    "### 1. Descriptive Statistics"
   ]
  },
  {
   "cell_type": "markdown",
   "metadata": {},
   "source": [
    "Use `DescriptiveStatistics(data,maxlag)` to calculate the corr between two series. It is in `.utils.py`\n",
    "<br>\n",
    "`maxlag` are the max lag for ADF test."
   ]
  },
  {
   "cell_type": "code",
   "execution_count": 5,
   "metadata": {},
   "outputs": [
    {
     "data": {
      "text/plain": [
       "{'mean': 6.987367579019611e-05,\n",
       " 'median': 0.0,\n",
       " 'min': -0.07843270189408003,\n",
       " 'max': 0.04487175417717548,\n",
       " 'std': 0.009584121721712784,\n",
       " 'skew': -0.3670340493550927,\n",
       " 'kurt': 5.455280842021169,\n",
       " 'adfs': -47.20750948402644,\n",
       " 'adfpv': 0.0}"
      ]
     },
     "execution_count": 5,
     "metadata": {},
     "output_type": "execute_result"
    }
   ],
   "source": [
    "cq.DescriptiveStatistics(d1[\"day\"],20)"
   ]
  },
  {
   "cell_type": "markdown",
   "metadata": {},
   "source": [
    "`adfs` is the statistics of ADF test. `adfpv` is the P-value of rejecting $H_0$. Here we find the data is stationary."
   ]
  },
  {
   "cell_type": "markdown",
   "metadata": {},
   "source": [
    "### 2. Cross-Quantilogram"
   ]
  },
  {
   "cell_type": "markdown",
   "metadata": {},
   "source": [
    "$$\\rho_α(k)=\\frac{E[\\psi_{\\alpha_1}(x_{1,t}-q_1(\\alpha_1))\\psi_{\\alpha_2}(x_{2,t-k}-q_2(\\alpha_2))]}{\\sqrt{\\psi_{\\alpha_1}^2(x_{1,t}-q_1(\\alpha_1))}\\sqrt{\\psi_{\\alpha_2}^2(x_{2,t-k}-q_2(\\alpha_2))}}$$"
   ]
  },
  {
   "cell_type": "markdown",
   "metadata": {},
   "source": [
    "Use `CrossQuantilogram(x1,alpha1,x2,alpha2,k)`to calculate the corr between two series.<br>\n",
    "It means the predictability from X2(t-k) to X1(t)."
   ]
  },
  {
   "cell_type": "markdown",
   "metadata": {},
   "source": [
    "* Input: x1 series,\n",
    "    * `x1`:array-like, series-1.\n",
    "    * `alpha1`: float between (0,1), quantile of serie-1.\n",
    "    * `x2`:array-like, serie-2.\n",
    "    * `alpha2`: float between (0,1), quantile of serie-2.\n",
    "    * `k`: non-negative integer, the serie-2's lag.\n",
    "* Output:\n",
    "    * A float number."
   ]
  },
  {
   "cell_type": "code",
   "execution_count": 6,
   "metadata": {},
   "outputs": [
    {
     "data": {
      "text/plain": [
       "0.2971576227390181"
      ]
     },
     "execution_count": 6,
     "metadata": {},
     "output_type": "execute_result"
    }
   ],
   "source": [
    "cq.CrossQuantilogram(d1[\"day\"],0.1,d2[\"day\"],0.1,1)"
   ]
  },
  {
   "cell_type": "markdown",
   "metadata": {},
   "source": [
    "x1 can be n-columns series. It will return an array."
   ]
  },
  {
   "cell_type": "code",
   "execution_count": 7,
   "metadata": {},
   "outputs": [
    {
     "data": {
      "text/plain": [
       "array([0.29715762, 0.00258398, 0.34366925])"
      ]
     },
     "execution_count": 7,
     "metadata": {},
     "output_type": "execute_result"
    }
   ],
   "source": [
    "cq.CrossQuantilogram(d1[[\"day\",\"intraday\",\"overnight\"]],0.1,d2[\"day\"],0.1,1)"
   ]
  },
  {
   "cell_type": "markdown",
   "metadata": {},
   "source": [
    "### 3. Stationary Bootstrap"
   ]
  },
  {
   "cell_type": "markdown",
   "metadata": {},
   "source": [
    "Use Bootstrap() to generate bootstrapped sample. It is in `.stationarybootstrap.py`"
   ]
  },
  {
   "cell_type": "markdown",
   "metadata": {},
   "source": [
    "* Input: \n",
    "    * `x1`: array-like, serie-1.\n",
    "    * `x2`: array-like, serie-2. \n",
    "    * `lag`: integer, x2's lag.\n",
    "    * `bslength`: integer, output length.\n",
    "    * `bsd`: BSDistribution instance, the distribution for $L_i$.\n",
    "    * `verbose`: boolean.\n",
    "* Output:\n",
    "    * A tuple including 2 bootstrapped series x1,x2"
   ]
  },
  {
   "cell_type": "code",
   "execution_count": 8,
   "metadata": {},
   "outputs": [
    {
     "name": "stdout",
     "output_type": "stream",
     "text": [
      "Generating random blocks:0/100(0.0%)\r",
      "Generating samples:0/100(0.0%)\r",
      "Generating samples:11/100(11.0%)\r",
      "Generating samples:26/100(26.0%)\r",
      "Generating samples:33/100(33.0%)\r",
      "Generating samples:73/100(73.0%)\r",
      "Generating samples:259/100(100%)   \n"
     ]
    },
    {
     "data": {
      "text/plain": [
       "(array([84, 85, 86, 87, 88, 89, 90, 91, 92, 93, 94, 32, 33, 34, 35, 36, 37,\n",
       "        38, 39, 40, 41, 42, 43, 44, 45, 46, 30, 31, 32, 33, 34, 35, 36, 19,\n",
       "        20, 21, 22, 23, 24, 25, 26, 27, 28, 29, 30, 31, 32, 33, 34, 35, 36,\n",
       "        37, 38, 39, 40, 41, 42, 43, 44, 45, 46, 47, 48, 49, 50, 51, 52, 53,\n",
       "        54, 55, 56, 57, 58, 16, 17, 18, 19, 20, 21, 22, 23, 24, 25, 26, 27,\n",
       "        28, 29, 30, 31, 32, 33, 34, 35, 36, 37, 38, 39, 40, 41, 42]),\n",
       " array([174, 175, 176, 177, 178, 179, 180, 181, 182, 183, 184, 122, 123,\n",
       "        124, 125, 126, 127, 128, 129, 130, 131, 132, 133, 134, 135, 136,\n",
       "        120, 121, 122, 123, 124, 125, 126, 109, 110, 111, 112, 113, 114,\n",
       "        115, 116, 117, 118, 119, 120, 121, 122, 123, 124, 125, 126, 127,\n",
       "        128, 129, 130, 131, 132, 133, 134, 135, 136, 137, 138, 139, 140,\n",
       "        141, 142, 143, 144, 145, 146, 147, 148, 106, 107, 108, 109, 110,\n",
       "        111, 112, 113, 114, 115, 116, 117, 118, 119, 120, 121, 122, 123,\n",
       "        124, 125, 126, 127, 128, 129, 130, 131, 132]))"
      ]
     },
     "execution_count": 8,
     "metadata": {},
     "output_type": "execute_result"
    }
   ],
   "source": [
    "cq.Bootstrap(np.arange(100),np.arange(100,200),10,100,verbose=True)"
   ]
  },
  {
   "cell_type": "markdown",
   "metadata": {},
   "source": [
    "We usually generate data with length same as sample."
   ]
  },
  {
   "cell_type": "code",
   "execution_count": 9,
   "metadata": {},
   "outputs": [
    {
     "name": "stdout",
     "output_type": "stream",
     "text": [
      "Generating random blocks:0/2151(0.0%)\r",
      "Generating random blocks:1158/2151(53.8%)\r",
      "Generating random blocks:2110/2151(98.1%)\r",
      "Generating samples:0/2151(0.0%)\r",
      "Generating samples:120/2151(5.6%)\r",
      "Generating samples:210/2151(9.8%)\r",
      "Generating samples:266/2151(12.4%)\r",
      "Generating samples:361/2151(16.8%)\r",
      "Generating samples:373/2151(17.3%)\r",
      "Generating samples:725/2151(33.7%)\r",
      "Generating samples:726/2151(33.8%)\r",
      "Generating samples:1046/2151(48.6%)\r",
      "Generating samples:1066/2151(49.6%)\r",
      "Generating samples:1158/2151(53.8%)\r",
      "Generating samples:1314/2151(61.1%)\r",
      "Generating samples:1371/2151(63.7%)\r",
      "Generating samples:1473/2151(68.5%)\r",
      "Generating samples:1719/2151(79.9%)\r",
      "Generating samples:1928/2151(89.6%)\r",
      "Generating samples:1933/2151(89.9%)\r",
      "Generating samples:1966/2151(91.4%)\r",
      "Generating samples:1974/2151(91.8%)\r",
      "Generating samples:2037/2151(94.7%)\r",
      "Generating samples:2110/2151(98.1%)\r",
      "Generating samples:2211/2151(100%)   \n"
     ]
    },
    {
     "data": {
      "text/plain": [
       "(array([-0.0043024 ,  0.00537512,  0.00723369, ..., -0.00166466,\n",
       "        -0.00594135,  0.0027894 ]),\n",
       " array([ 0.0089821 ,  0.00390444,  0.00450521, ...,  0.00190916,\n",
       "        -0.00190916, -0.01120998]))"
      ]
     },
     "execution_count": 9,
     "metadata": {},
     "output_type": "execute_result"
    }
   ],
   "source": [
    "cq.Bootstrap(d1[\"day\"],d2[\"day\"],20,d1.shape[0],verbose=True)"
   ]
  },
  {
   "cell_type": "code",
   "execution_count": 10,
   "metadata": {
    "scrolled": true
   },
   "outputs": [
    {
     "name": "stdout",
     "output_type": "stream",
     "text": [
      "555 µs ± 30 µs per loop (mean ± std. dev. of 7 runs, 1000 loops each)\n"
     ]
    }
   ],
   "source": [
    "%timeit cq.Bootstrap(d1[\"intraday\"],d2[\"day\"],20,d1.shape[0],verbose=False)"
   ]
  },
  {
   "cell_type": "markdown",
   "metadata": {},
   "source": [
    "### 3. Hypothesis Tests"
   ]
  },
  {
   "cell_type": "markdown",
   "metadata": {},
   "source": [
    "$H_0 : \\rho_{\\alpha}(1)=...=\\rho_{\\alpha}(k)=0$"
   ]
  },
  {
   "cell_type": "markdown",
   "metadata": {},
   "source": [
    "$H_1 : \\rho_\\alpha(k)\\neq0$ for some $k \\in \\{1,...,p\\}$"
   ]
  },
  {
   "cell_type": "markdown",
   "metadata": {},
   "source": [
    "Use `LjungBoxQ(cqlist,maxp,T)` or `BoxPierceQ(cqlist,maxp,T)` to calculate $Q$ statistics. Use stationary bootstrapped CQ and corresponding $Q$ as a asymptotic distribution to test. 1000 bootstrap repeats are enough."
   ]
  },
  {
   "cell_type": "markdown",
   "metadata": {},
   "source": [
    "****"
   ]
  },
  {
   "cell_type": "markdown",
   "metadata": {},
   "source": [
    "## Higher Level Functions"
   ]
  },
  {
   "cell_type": "markdown",
   "metadata": {},
   "source": [
    "Here's some frequently used higher-level API. They are contained in `.calculate.py`"
   ]
  },
  {
   "cell_type": "markdown",
   "metadata": {},
   "source": [
    "### 1. Cross-Quantilogram with Bootstrap for lags"
   ]
  },
  {
   "cell_type": "markdown",
   "metadata": {},
   "source": [
    "We can use `CQBS(data1,a1,data2,a2,k,cqcl=0.95,testf=LjungBoxQ,testcl=0.95,n=1000,verbose=True)` to calculate \n",
    "CQ at a certain quantile $(\\alpha_1,\\alpha_2)$ for different lags $\\{k|k \\in \\mathbb{Z^+\\}}$. It can be used for bar plotting."
   ]
  },
  {
   "cell_type": "markdown",
   "metadata": {},
   "source": [
    "* Input:\n",
    "    * `data1`: array-like, serie-1.\n",
    "    * `a1`: float between (0,1), quantile of serie-1.\n",
    "    * `data2`: array-like, serie-2 (k lagged).\n",
    "    * `a2`: float between (0,1), quantile of serie-2.\n",
    "    * `k`: non-negative integer, the serie-2's max lag.\n",
    "    * `cqcl`: optional float between (0,1), the level of confidence interval of CQ, 0.95 as default.\n",
    "    * `testf`: optional function, a function calculating the test statistics Q, `qtests.LjungBoxQ` as default.\n",
    "    * `testcl`: optional float between (0,1), the critical level of Q statistics, 0.95 as default. \n",
    "    * `n`: optional integer, the repeating time of bootstrap, 1000 as default.\n",
    "    * `verbose`: optional boolean, if it will print the procedure.\n",
    "* Output:\n",
    "    * pandas.DataFrame containing k rows(k lags) and 5 cols(\"cq\",\"cq_upper\",\"cq_lower\",\"q\",\"qc\")"
   ]
  },
  {
   "cell_type": "code",
   "execution_count": 11,
   "metadata": {
    "scrolled": false
   },
   "outputs": [
    {
     "name": "stdout",
     "output_type": "stream",
     "text": [
      "Bootstraping CQ done      \n",
      "time cost: 8.037155151367188s\n"
     ]
    },
    {
     "data": {
      "text/html": [
       "<div>\n",
       "<style scoped>\n",
       "    .dataframe tbody tr th:only-of-type {\n",
       "        vertical-align: middle;\n",
       "    }\n",
       "\n",
       "    .dataframe tbody tr th {\n",
       "        vertical-align: top;\n",
       "    }\n",
       "\n",
       "    .dataframe thead th {\n",
       "        text-align: right;\n",
       "    }\n",
       "</style>\n",
       "<table border=\"1\" class=\"dataframe\">\n",
       "  <thead>\n",
       "    <tr style=\"text-align: right;\">\n",
       "      <th></th>\n",
       "      <th>cq</th>\n",
       "      <th>cq_upper</th>\n",
       "      <th>cq_lower</th>\n",
       "      <th>q</th>\n",
       "      <th>qc</th>\n",
       "    </tr>\n",
       "  </thead>\n",
       "  <tbody>\n",
       "    <tr>\n",
       "      <th>1</th>\n",
       "      <td>0.297158</td>\n",
       "      <td>0.074935</td>\n",
       "      <td>-0.043501</td>\n",
       "      <td>190.204037</td>\n",
       "      <td>7.940617</td>\n",
       "    </tr>\n",
       "    <tr>\n",
       "      <th>2</th>\n",
       "      <td>0.018037</td>\n",
       "      <td>0.071047</td>\n",
       "      <td>-0.022839</td>\n",
       "      <td>190.905140</td>\n",
       "      <td>13.055649</td>\n",
       "    </tr>\n",
       "    <tr>\n",
       "      <th>3</th>\n",
       "      <td>0.085177</td>\n",
       "      <td>0.101409</td>\n",
       "      <td>0.002481</td>\n",
       "      <td>206.547145</td>\n",
       "      <td>25.476031</td>\n",
       "    </tr>\n",
       "    <tr>\n",
       "      <th>4</th>\n",
       "      <td>0.028273</td>\n",
       "      <td>0.055380</td>\n",
       "      <td>-0.027664</td>\n",
       "      <td>208.271393</td>\n",
       "      <td>27.573408</td>\n",
       "    </tr>\n",
       "    <tr>\n",
       "      <th>5</th>\n",
       "      <td>0.002378</td>\n",
       "      <td>0.081284</td>\n",
       "      <td>-0.033358</td>\n",
       "      <td>208.283594</td>\n",
       "      <td>32.197744</td>\n",
       "    </tr>\n",
       "    <tr>\n",
       "      <th>6</th>\n",
       "      <td>0.054019</td>\n",
       "      <td>0.065663</td>\n",
       "      <td>-0.028690</td>\n",
       "      <td>214.583764</td>\n",
       "      <td>33.774020</td>\n",
       "    </tr>\n",
       "    <tr>\n",
       "      <th>7</th>\n",
       "      <td>0.028122</td>\n",
       "      <td>0.064309</td>\n",
       "      <td>-0.013234</td>\n",
       "      <td>216.292067</td>\n",
       "      <td>36.171499</td>\n",
       "    </tr>\n",
       "    <tr>\n",
       "      <th>8</th>\n",
       "      <td>0.012563</td>\n",
       "      <td>0.044190</td>\n",
       "      <td>-0.033069</td>\n",
       "      <td>216.633124</td>\n",
       "      <td>37.616707</td>\n",
       "    </tr>\n",
       "    <tr>\n",
       "      <th>9</th>\n",
       "      <td>0.007342</td>\n",
       "      <td>0.095949</td>\n",
       "      <td>0.007875</td>\n",
       "      <td>216.749654</td>\n",
       "      <td>46.662264</td>\n",
       "    </tr>\n",
       "    <tr>\n",
       "      <th>10</th>\n",
       "      <td>0.018743</td>\n",
       "      <td>0.075853</td>\n",
       "      <td>-0.006204</td>\n",
       "      <td>217.509499</td>\n",
       "      <td>52.046255</td>\n",
       "    </tr>\n",
       "  </tbody>\n",
       "</table>\n",
       "</div>"
      ],
      "text/plain": [
       "          cq  cq_upper  cq_lower           q         qc\n",
       "1   0.297158  0.074935 -0.043501  190.204037   7.940617\n",
       "2   0.018037  0.071047 -0.022839  190.905140  13.055649\n",
       "3   0.085177  0.101409  0.002481  206.547145  25.476031\n",
       "4   0.028273  0.055380 -0.027664  208.271393  27.573408\n",
       "5   0.002378  0.081284 -0.033358  208.283594  32.197744\n",
       "6   0.054019  0.065663 -0.028690  214.583764  33.774020\n",
       "7   0.028122  0.064309 -0.013234  216.292067  36.171499\n",
       "8   0.012563  0.044190 -0.033069  216.633124  37.616707\n",
       "9   0.007342  0.095949  0.007875  216.749654  46.662264\n",
       "10  0.018743  0.075853 -0.006204  217.509499  52.046255"
      ]
     },
     "execution_count": 11,
     "metadata": {},
     "output_type": "execute_result"
    }
   ],
   "source": [
    "t1=time.time()\n",
    "res1=cq.CQBS(d1[\"day\"],0.1,d2[\"day\"],0.1,k=10,cqcl=0.95,testcl=0.95,n=1000,verbose=True)\n",
    "print(\"time cost: {}s\".format(time.time()-t1))\n",
    "res1"
   ]
  },
  {
   "cell_type": "markdown",
   "metadata": {},
   "source": [
    "### 2. Cross-Quantilogram with Bootstrap for alphas"
   ]
  },
  {
   "cell_type": "markdown",
   "metadata": {},
   "source": [
    "We can use `CQBS_alphas(data1,a1list,data2,a2list,k=1,cqcl=0.95,testf=LjungBoxQ,testcl=0.95,all=False,n=1000,verbose=True)` to calculate CQ at a certain lag $k$ for different quantile $\\{(\\alpha_1,\\alpha_2)|\\alpha_1,\\alpha_2 \\in (0,1)\\}$. It will return a 2D list, which can be used for heatmap."
   ]
  },
  {
   "cell_type": "markdown",
   "metadata": {},
   "source": [
    "Return a 2D list of DataFrame(if all=True) or a 2D list of dict(if all=False). Shape:$[row(data2),col(data1)]$ <br>\n",
    "It's slow beacuse of calling `CQBS()` for $len(a1list)×len(a2list)$ times.\n",
    "* Input:\n",
    "    * `data1`: array-like, serie-1.\n",
    "    * `a1list`: array-like and between (0,1), quantiles of serie-1.\n",
    "    * `data2`: array-like, serie-2 (k lagged).\n",
    "    * `a2list`: array-like and between (0,1), quantiles of serie-2.\n",
    "    * `k`: optional non-negative integer, the serie-2's max lag, 1 as default.\n",
    "    * `cqcl`: optional float between (0,1), the level of confidence interval of CQ, 0.95 as default.\n",
    "    * `testf`: optional function, a function calculating the test statistics Q, `qtests.LjungBoxQ` as default.\n",
    "    * `testcl`: optional float between (0,1), the critical level of Q statistics, 0.95 as default.\n",
    "    * `all`: optional boolean, True if you want to save all [1,k] results so the 2D list will contain DataFrame;         False if you want to save the last result (only for lag k) so the 2D list will contain dict, False as default.\n",
    "    * `n`: optional integer, the repeating time of bootstrap, 1000 as default.\n",
    "    * `verbose`: optional boolean, if it will print the procedure.\n",
    "* Output:\n",
    "    * 2D list, rows(1D) for data2, cols(2D) for data1, items are dicts or DataFrame(return of `CQBS`)\n"
   ]
  },
  {
   "cell_type": "code",
   "execution_count": 12,
   "metadata": {
    "scrolled": false
   },
   "outputs": [
    {
     "name": "stdout",
     "output_type": "stream",
     "text": [
      "Bootstraping CQ done      \n",
      "time cost: 7.405273914337158s\n"
     ]
    },
    {
     "data": {
      "text/plain": [
       "array([[{'cq': 0.2971576227390181, 'cq_upper': 0.06976744186046516, 'cq_lower': -0.04909560723514211, 'q': 190.2040372406063, 'qc': 8.110606017187862},\n",
       "        {'cq': 0.15007751937984495, 'cq_upper': 0.020155038759689922, 'cq_lower': -0.06604651162790699, 'q': 48.515137394996664, 'qc': 7.011681628837715},\n",
       "        {'cq': 0.06976744186046513, 'cq_upper': -0.019761175192510572, 'cq_lower': -0.10816643263268941, 'q': 10.484593054699591, 'qc': 22.191948659326645}],\n",
       "       [{'cq': 0.1937984496124031, 'cq_upper': 0.031072050092957795, 'cq_lower': -0.037286460111549354, 'q': 80.89963776774373, 'qc': 2.516350696585456},\n",
       "        {'cq': 0.20651162790697675, 'cq_upper': 0.010232558139534883, 'cq_lower': -0.06325581395348837, 'q': 91.86181050805591, 'qc': 6.935674801162162},\n",
       "        {'cq': 0.16899224806201552, 'cq_upper': -0.016984189253837184, 'cq_lower': -0.0883720930232558, 'q': 61.51479016438805, 'qc': 14.543813279333895}],\n",
       "       [{'cq': 0.08010335917312664, 'cq_upper': 0.02278617006816904, 'cq_lower': -0.09560723514211886, 'q': 13.821253670186978, 'qc': 15.66243758972226},\n",
       "        {'cq': 0.11968992248062019, 'cq_upper': 0.011139786467768897, 'cq_lower': -0.057674418604651154, 'q': 30.857529417837437, 'qc': 5.775897594123787},\n",
       "        {'cq': 0.28165374677002586, 'cq_upper': 0.05363600891888731, 'cq_lower': -0.04951016207897285, 'q': 170.87441712330013, 'qc': 5.280009165489013}]],\n",
       "      dtype=object)"
      ]
     },
     "execution_count": 12,
     "metadata": {},
     "output_type": "execute_result"
    }
   ],
   "source": [
    "t1=time.time()\n",
    "alist=[0.1,0.5,0.9]\n",
    "res2=cq.CQBS_alphas(d1[\"day\"],alist,d2[\"day\"],alist,k=1,cqcl=0.95,testcl=0.95,all=False,n=1000,verbose=True)\n",
    "print(\"time cost: {}s\".format(time.time()-t1))\n",
    "res2"
   ]
  },
  {
   "cell_type": "markdown",
   "metadata": {},
   "source": [
    "### 3. Cross-Quantilogram with Bootstrap for time periods (Rolling)"
   ]
  },
  {
   "cell_type": "markdown",
   "metadata": {},
   "source": [
    "We can use `CQBS_years(data1,a1,data2,a2,k=1,window=1,cqcl=0.95,testf=LjungBoxQ,testcl=0.95,all=False,n=1000,verbose=True)` to calculate rolling CQ at a certain $(\\alpha_1,\\alpha_2)$ and a certain lag $k$ for different years. It will return a list which can be used for rolling line plotting."
   ]
  },
  {
   "cell_type": "markdown",
   "metadata": {},
   "source": [
    "Return 1 DataFrame(if all=False) or a list of DataFrame(if all=True) at $lag∈[1,k]$.<br>\n",
    "It's slow beacuse of calling `CQBS()` for $\\#years$ times.\n",
    "* Input:\n",
    "    * `data1`: array-like, serie-1.\n",
    "    * `a1`: float between (0,1), quantile of serie-1.\n",
    "    * `data2`: array-like, serie-2 (k lagged).\n",
    "    * `a2`: float between (0,1), quantile of serie-2.\n",
    "    * `k`: optional non-negative integer, the serie-2's max lag, 1 as default.\n",
    "    * `window`: optional positive integer, the rolling window (years), 1 as default.\n",
    "    * `cqcl`: optional float between (0,1), the level of confidence interval of CQ, 0.95 as default.\n",
    "    * `testf`: optional function, a function calculating the test statistics Q, `qtests.LjungBoxQ` as default.\n",
    "    * `testcl`: optional float between (0,1), the critical level of Q statistics, 0.95 as default.\n",
    "    * `all`: optional boolean, True if you want to save all [1,k] results so the list will contain k DataFrame, \n",
    "        False if you want to save the last result (only for lag k) so it will return 1 DataFrame, False as default.\n",
    "    * `n`: optional integer, the repeating time of bootstrap, 1000 as default.\n",
    "    * `verbose`: optional boolean, if it will print the procedure.\n",
    "* Output:\n",
    "    * pandas.DataFrame(return of CQ_lags) or a list of pandas.DataFrame(if all=True).\n"
   ]
  },
  {
   "cell_type": "code",
   "execution_count": 13,
   "metadata": {
    "scrolled": false
   },
   "outputs": [
    {
     "name": "stdout",
     "output_type": "stream",
     "text": [
      "Bootstraping CQ done      \n",
      "time cost: 5.075068473815918s\n"
     ]
    },
    {
     "data": {
      "text/html": [
       "<div>\n",
       "<style scoped>\n",
       "    .dataframe tbody tr th:only-of-type {\n",
       "        vertical-align: middle;\n",
       "    }\n",
       "\n",
       "    .dataframe tbody tr th {\n",
       "        vertical-align: top;\n",
       "    }\n",
       "\n",
       "    .dataframe thead th {\n",
       "        text-align: right;\n",
       "    }\n",
       "</style>\n",
       "<table border=\"1\" class=\"dataframe\">\n",
       "  <thead>\n",
       "    <tr style=\"text-align: right;\">\n",
       "      <th></th>\n",
       "      <th>cq</th>\n",
       "      <th>cq_upper</th>\n",
       "      <th>cq_lower</th>\n",
       "      <th>q</th>\n",
       "      <th>qc</th>\n",
       "    </tr>\n",
       "  </thead>\n",
       "  <tbody>\n",
       "    <tr>\n",
       "      <th>2010</th>\n",
       "      <td>0.613713</td>\n",
       "      <td>0.089136</td>\n",
       "      <td>-0.104972</td>\n",
       "      <td>88.516201</td>\n",
       "      <td>1.867229</td>\n",
       "    </tr>\n",
       "    <tr>\n",
       "      <th>2011</th>\n",
       "      <td>0.582367</td>\n",
       "      <td>0.164733</td>\n",
       "      <td>-0.020882</td>\n",
       "      <td>81.061381</td>\n",
       "      <td>3.346624</td>\n",
       "    </tr>\n",
       "    <tr>\n",
       "      <th>2012</th>\n",
       "      <td>0.535747</td>\n",
       "      <td>0.025070</td>\n",
       "      <td>-0.114206</td>\n",
       "      <td>68.315708</td>\n",
       "      <td>3.104411</td>\n",
       "    </tr>\n",
       "    <tr>\n",
       "      <th>2013</th>\n",
       "      <td>0.130014</td>\n",
       "      <td>0.236123</td>\n",
       "      <td>-0.010352</td>\n",
       "      <td>3.938800</td>\n",
       "      <td>8.912714</td>\n",
       "    </tr>\n",
       "    <tr>\n",
       "      <th>2014</th>\n",
       "      <td>0.025974</td>\n",
       "      <td>0.084778</td>\n",
       "      <td>-0.113173</td>\n",
       "      <td>0.161925</td>\n",
       "      <td>3.074089</td>\n",
       "    </tr>\n",
       "    <tr>\n",
       "      <th>2015</th>\n",
       "      <td>-0.020882</td>\n",
       "      <td>0.025522</td>\n",
       "      <td>-0.113689</td>\n",
       "      <td>0.104220</td>\n",
       "      <td>3.089290</td>\n",
       "    </tr>\n",
       "    <tr>\n",
       "      <th>2016</th>\n",
       "      <td>0.071926</td>\n",
       "      <td>-0.067285</td>\n",
       "      <td>-0.113689</td>\n",
       "      <td>1.236488</td>\n",
       "      <td>3.089290</td>\n",
       "    </tr>\n",
       "    <tr>\n",
       "      <th>2017</th>\n",
       "      <td>0.072356</td>\n",
       "      <td>0.084778</td>\n",
       "      <td>-0.102204</td>\n",
       "      <td>1.256568</td>\n",
       "      <td>1.725063</td>\n",
       "    </tr>\n",
       "    <tr>\n",
       "      <th>2018</th>\n",
       "      <td>0.118329</td>\n",
       "      <td>0.125318</td>\n",
       "      <td>-0.111131</td>\n",
       "      <td>3.346624</td>\n",
       "      <td>3.346624</td>\n",
       "    </tr>\n",
       "    <tr>\n",
       "      <th>2019</th>\n",
       "      <td>-0.126761</td>\n",
       "      <td>0.154930</td>\n",
       "      <td>-0.126761</td>\n",
       "      <td>0.628039</td>\n",
       "      <td>0.628039</td>\n",
       "    </tr>\n",
       "  </tbody>\n",
       "</table>\n",
       "</div>"
      ],
      "text/plain": [
       "            cq  cq_upper  cq_lower          q        qc\n",
       "2010  0.613713  0.089136 -0.104972  88.516201  1.867229\n",
       "2011  0.582367  0.164733 -0.020882  81.061381  3.346624\n",
       "2012  0.535747  0.025070 -0.114206  68.315708  3.104411\n",
       "2013  0.130014  0.236123 -0.010352   3.938800  8.912714\n",
       "2014  0.025974  0.084778 -0.113173   0.161925  3.074089\n",
       "2015 -0.020882  0.025522 -0.113689   0.104220  3.089290\n",
       "2016  0.071926 -0.067285 -0.113689   1.236488  3.089290\n",
       "2017  0.072356  0.084778 -0.102204   1.256568  1.725063\n",
       "2018  0.118329  0.125318 -0.111131   3.346624  3.346624\n",
       "2019 -0.126761  0.154930 -0.126761   0.628039  0.628039"
      ]
     },
     "execution_count": 13,
     "metadata": {},
     "output_type": "execute_result"
    }
   ],
   "source": [
    "t1=time.time()\n",
    "res3=cq.CQBS_years(d1[\"day\"],0.1,d2[\"day\"],0.1,k=1,window=1,cqcl=0.95,testcl=0.95,all=False,n=1000,verbose=True)\n",
    "print(\"time cost: {}s\".format(time.time()-t1))\n",
    "res3"
   ]
  },
  {
   "cell_type": "markdown",
   "metadata": {},
   "source": [
    "## Plotting Scripts"
   ]
  },
  {
   "cell_type": "markdown",
   "metadata": {},
   "source": [
    "We provide 3 typical kinds of plotting for researches. You can find their codes in `.plot.py`"
   ]
  },
  {
   "cell_type": "markdown",
   "metadata": {},
   "source": [
    "## 1. Bar plot with CQBS()"
   ]
  },
  {
   "cell_type": "markdown",
   "metadata": {},
   "source": [
    "```Python\n",
    "def bar_example(data1,data2,picname=\"\",show=True):\n",
    "    alist=[0.1,0.5,0.9]\n",
    "    dataset=[CQBS(data1,alist[i],data2,alist[i],20,verbose=True) for i in range(3)]\n",
    "\n",
    "    fig1,ax1=plt.subplots(2,3,figsize=(12,4))\n",
    "    plt.subplots_adjust(wspace=0.3,hspace=0.8) \n",
    "    xaxis=[str(x) for x in dataset[0].index]    \n",
    "    ax1[0][0].set_ylabel(\"Cross-Quantilogram\",fontsize=\"x-large\",labelpad=0.1)\n",
    "\n",
    "    for i in range(3):\n",
    "        ax1[0][i].set_title(\"α={}\".format(alist[i]),fontsize=\"xx-large\")       \n",
    "        ax1[0][i].tick_params(labelsize=\"large\")\n",
    "        ax1[0][i].axhline(color=\"black\",linewidth=1)\n",
    "        ax1[0][i].bar(xaxis,dataset[i][\"cq\"],width=0.2,color=\"black\")\n",
    "        ax1[0][i].plot(xaxis,dataset[i][\"cq_upper\"],color='red',linestyle=\"dashed\")\n",
    "        ax1[0][i].plot(xaxis,dataset[i][\"cq_lower\"],color='red',linestyle=\"dashed\")\n",
    "        ax1[0][i].xaxis.set_major_locator(ticker.MultipleLocator(2))\n",
    "        m = (abs(dataset[i][\"cq\"]).max()//0.05)*0.05+0.1\n",
    "        ax1[0][i].set_ylim(-m,m)\n",
    "        \n",
    "    ax1[1][0].set_ylabel(\"Portmanteau\",fontsize=\"x-large\")\n",
    "    for i in range(3):\n",
    "        ax1[1][i].set_title(\"α={}\".format(alist[i]),fontsize=\"xx-large\")\n",
    "        ax1[1][i].set_xlabel(\"lag\",fontsize=\"xx-large\")        \n",
    "        ax1[1][i].tick_params(labelsize=\"large\")\n",
    "        ax1[1][i].plot(xaxis,dataset[i][\"q\"],color='black')\n",
    "        ax1[1][i].plot(xaxis,dataset[i][\"qc\"],color='red',linestyle=\"dotted\")\n",
    "        ax1[1][i].xaxis.set_major_locator(ticker.MultipleLocator(2))\n",
    "    fig1.align_labels()\n",
    "    if picname:\n",
    "        fig1.savefig(picname+\".png\",dpi=200,quality=95,bbox_inches=\"tight\")   \n",
    "    if show:\n",
    "        print(str(picname)+\":\")\n",
    "        plt.show()m\n",
    "```"
   ]
  },
  {
   "cell_type": "code",
   "execution_count": 14,
   "metadata": {
    "scrolled": false
   },
   "outputs": [
    {
     "name": "stdout",
     "output_type": "stream",
     "text": [
      "Bootstraping CQ done      \n",
      "Bootstraping CQ done      \n",
      "Bootstraping CQ done      \n",
      ":\n"
     ]
    },
    {
     "data": {
      "image/png": "[encoded data removed]",
      "text/plain": [
       "<Figure size 864x288 with 6 Axes>"
      ]
     },
     "metadata": {
      "needs_background": "light"
     },
     "output_type": "display_data"
    },
    {
     "name": "stdout",
     "output_type": "stream",
     "text": [
      "time cost: 48.51173758506775s\n"
     ]
    }
   ],
   "source": [
    "t1=time.time()\n",
    "cq.bar_example(d1[\"day\"],d2[\"day\"])\n",
    "print(\"time cost: {}s\".format(time.time()-t1))"
   ]
  },
  {
   "cell_type": "markdown",
   "metadata": {},
   "source": [
    "The figures in the first row show the CQ results at $\\alpha_1=\\alpha_2=\\{0.1,0.5,0.5\\}$ for $k \\in \\{1,...,20\\}$. Black bars are C; Red dashed lines are 95% confidence interval generated by 1000 times stationary bootstraps.\n",
    "<br>\n",
    "The figures in the second row show the correspongding Portmenteau(LjungBox) Q Statistics at $\\alpha_1=\\alpha_2=\\{0.1,0.5,0.5\\}$ for $k \\in \\{1,...,20\\}$. Black lines are Q; Red dashed lines are 95% critical value generated by 1000 times stationary bootstraps."
   ]
  },
  {
   "cell_type": "markdown",
   "metadata": {},
   "source": [
    "## 2. Heatmap plot with CQBS_alphas()"
   ]
  },
  {
   "cell_type": "markdown",
   "metadata": {},
   "source": [
    "```Python\n",
    "def heatmap_example(data1,data2,picname=\"\",show=True):\n",
    "    alist=[0.1,0.2,0.3,0.4,0.5,0.6,0.7,0.8,0.9]\n",
    "    dataset = CQBS_alphas(data1,alist,data2,alist,1,verbose=True)\n",
    "    data_mat=np.array([[d[\"cq\"] for d in row] for row in dataset])\n",
    "    data_txt=[[\"*\" if ((d[\"cq\"]>d[\"cq_upper\"] or d[\"cq\"]<d[\"cq_lower\"])and d[\"q\"]>d[\"qc\"])\\\n",
    "                else \"\" for d in row] for row in dataset]\n",
    "                \n",
    "    fig, ax = plt.subplots(figsize=(4,5))\n",
    "    im = ax.imshow(data_mat, cmap=\"Greys\")\n",
    "    ax.set_ylabel(\"US lag=1\",fontsize=\"xx-large\",verticalalignment=\"center\",labelpad=5)\n",
    "    ax.set_xlabel(\"CN\",fontsize=\"xx-large\",labelpad=35)\n",
    "    cbar = ax.figure.colorbar(im,ax=ax,fraction=0.046,pad=0.02,orientation=\"horizontal\",)\n",
    "    cbar.ax.tick_params(labelsize=\"large\")\n",
    "    cbar.ax.set_ylabel(\"\", rotation=-90, va=\"bottom\")\n",
    "    ax.set_xticks(np.arange(data_mat.shape[1]))\n",
    "    ax.set_yticks(np.arange(data_mat.shape[0]))\n",
    "    ax.set_yticklabels(alist,horizontalalignment=\"right\",fontsize=\"large\")\n",
    "    ax.set_xticklabels(alist,fontsize=\"large\")    \n",
    "    ax.tick_params(top=True, bottom=False,labeltop=True, labelbottom=False)                   \n",
    "    plt.setp(ax.get_xticklabels(), rotation=-60, ha=\"right\",rotation_mode=\"anchor\")        \n",
    "    ax.set_xticks(np.arange(data_mat.shape[1]+1)-.5, minor=True)\n",
    "    ax.set_yticks(np.arange(data_mat.shape[0]+1)-.5, minor=True)\n",
    "    ax.tick_params(which=\"minor\", bottom=False, left=False)\n",
    "    \n",
    "    data = im.get_array()\n",
    "    valfmt=\"{x}\"\n",
    "    threshold = im.norm(data.max())/2.0\n",
    "    textcolors=[\"black\", \"white\"]\n",
    "    kw = dict(horizontalalignment=\"center\",verticalalignment=\"center\")              \n",
    "    valfmt = matplotlib.ticker.StrMethodFormatter(valfmt)\n",
    "\n",
    "    for i in range(data.shape[0]):\n",
    "        for j in range(data.shape[1]):\n",
    "            kw.update(color=textcolors[im.norm(data[i, j]) > threshold])\n",
    "            text = im.axes.text(j, i, valfmt(data_txt[i][j], None),fontsize=\"large\",**kw)\n",
    "\n",
    "    fig.tight_layout()\n",
    "    if picname:\n",
    "        fig.savefig(picname+\".png\",dpi=200,quality=95,bbox_inches=\"tight\")\n",
    "    if show:\n",
    "        print(picname+\":\")\n",
    "        plt.show()\n",
    "```"
   ]
  },
  {
   "cell_type": "code",
   "execution_count": 15,
   "metadata": {
    "scrolled": false
   },
   "outputs": [
    {
     "name": "stdout",
     "output_type": "stream",
     "text": [
      "Bootstraping CQ done      \n",
      ":\n"
     ]
    },
    {
     "data": {
      "image/png": "[encoded data removed]",
      "text/plain": [
       "<Figure size 288x360 with 2 Axes>"
      ]
     },
     "metadata": {
      "needs_background": "light"
     },
     "output_type": "display_data"
    },
    {
     "name": "stdout",
     "output_type": "stream",
     "text": [
      "time cost: 68.4459617137909s\n"
     ]
    }
   ],
   "source": [
    "t1=time.time()\n",
    "cq.heatmap_example(d1[\"day\"],d2[\"day\"])\n",
    "print(\"time cost: {}s\".format(time.time()-t1))"
   ]
  },
  {
   "cell_type": "markdown",
   "metadata": {},
   "source": [
    "The heatmap shows the CQ at $\\{(\\alpha_{cn},\\alpha_{us})|(\\alpha_{cn},\\alpha_{us})\\in0.1,...,0.9\\}$ and $k=1$. It represent the spillover from US market at day t towards CN market at day t+1. The star mark in each scenario means the significance in CQ and Q test."
   ]
  },
  {
   "cell_type": "markdown",
   "metadata": {},
   "source": [
    "## 3. Line(Rolling) plot with CQBS_years()"
   ]
  },
  {
   "cell_type": "markdown",
   "metadata": {},
   "source": [
    "```Python\n",
    "def rolling_example(data1,data2,picname=\"\",show=True):\n",
    "    alist=[0.1,0.5,0.9]\n",
    "    dataset = [CQBS_years(data1,alist[i],data2,alist[i],verbose=True) for i in range(3)]\n",
    "    fig1,ax1=plt.subplots(2,3,figsize=(12,6))\n",
    "    plt.subplots_adjust(wspace=0.3,hspace=0.5) \n",
    "    xaxis=[x for x in dataset[0].index]\n",
    "    \n",
    "    ax1[0][0].set_ylabel(\"Rolling\\nCross-Quantilogram\",fontsize=\"x-large\",labelpad=0.1)\n",
    "    for i in range(3):\n",
    "        ax1[0][i].set_title(\"α={}\".format(alist[i]),fontsize=\"xx-large\")     \n",
    "        ax1[0][i].tick_params(labelsize=\"large\")\n",
    "        ax1[0][i].axhline(color=\"black\",linewidth=1)        \n",
    "        ax1[0][i].plot(xaxis,dataset[i][\"cq_upper\"],\"rd--\",markersize=5,markerfacecolor=\"w\")\n",
    "        ax1[0][i].plot(xaxis,dataset[i][\"cq_lower\"],\"rd--\",markersize=5,markerfacecolor=\"w\")\n",
    "        ax1[0][i].plot(xaxis,dataset[i][\"cq\"],\"ko-\",markersize=4)\n",
    "        ax1[0][i].xaxis.set_major_locator(ticker.MultipleLocator(2))\n",
    "        m = (max(abs(dataset[i][\"cq\"]).max(),abs(dataset[i][\"cq_upper\"]).max(),abs(dataset[i][\"cq_lower\"]).max())//0.05)*0.05+0.1\n",
    "        ax1[0][i].set_ylim(-m,m)\n",
    "        \n",
    "    ax1[1][0].set_ylabel(\"Portmanteau\",fontsize=\"x-large\")\n",
    "    for i in range(3):\n",
    "        ax1[1][i].set_title(\"α={}\".format(alist[i]),fontsize=\"xx-large\")\n",
    "        ax1[1][i].set_xlabel(\"year\",fontsize=\"xx-large\")        \n",
    "        ax1[1][i].tick_params(labelsize=\"large\")\n",
    "        ax1[1][i].plot(xaxis,dataset[i][\"q\"],color='black')\n",
    "        ax1[1][i].plot(xaxis,dataset[i][\"qc\"],color='red',linestyle=\"dotted\")\n",
    "        ax1[1][i].xaxis.set_major_locator(ticker.MultipleLocator(2))\n",
    "    fig1.align_labels()\n",
    "\n",
    "    if picname:\n",
    "        fig1.savefig(picname+\".png\",dpi=200,quality=95,bbox_inches=\"tight\")   \n",
    "    if show:\n",
    "        print(picname+\":\")\n",
    "        plt.show()\n",
    "```"
   ]
  },
  {
   "cell_type": "code",
   "execution_count": 16,
   "metadata": {
    "scrolled": false
   },
   "outputs": [
    {
     "name": "stdout",
     "output_type": "stream",
     "text": [
      "Bootstraping CQ done      \n",
      "Bootstraping CQ done      \n",
      "Bootstraping CQ done      \n",
      ":\n"
     ]
    },
    {
     "data": {
      "image/png": "[encoded data removed]",
      "text/plain": [
       "<Figure size 864x432 with 6 Axes>"
      ]
     },
     "metadata": {
      "needs_background": "light"
     },
     "output_type": "display_data"
    },
    {
     "name": "stdout",
     "output_type": "stream",
     "text": [
      "time cost: 15.774244546890259s\n"
     ]
    }
   ],
   "source": [
    "t1=time.time()\n",
    "cq.rolling_example(d1[\"day\"],d2[\"day\"])\n",
    "print(\"time cost: {}s\".format(time.time()-t1))"
   ]
  },
  {
   "cell_type": "markdown",
   "metadata": {},
   "source": [
    "The line figures show the the CQ and Portmenteau Q results at $\\alpha_1=\\alpha_2=\\{0.1,0.5,0.5\\}$ and $k=1$ for $year=\\{2010,...,2019\\}$"
   ]
  }
 ],
 "metadata": {
  "kernelspec": {
   "display_name": "Python 3",
   "language": "python",
   "name": "python3"
  },
  "language_info": {
   "codemirror_mode": {
    "name": "ipython",
    "version": 3
   },
   "file_extension": ".py",
   "mimetype": "text/x-python",
   "name": "python",
   "nbconvert_exporter": "python",
   "pygments_lexer": "ipython3",
   "version": "3.7.0"
  }
 },
 "nbformat": 4,
 "nbformat_minor": 2
}
